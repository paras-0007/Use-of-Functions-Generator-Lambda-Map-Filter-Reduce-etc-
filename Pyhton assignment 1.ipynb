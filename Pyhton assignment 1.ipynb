{
 "cells": [
  {
   "cell_type": "code",
   "execution_count": 41,
   "id": "ae67732f-d02c-4a6f-bab7-2b1d76d65339",
   "metadata": {},
   "outputs": [],
   "source": [
    "# Ques:1 Which keyword is used to create a function? Create a function to return a list of odd numbers in\n",
    "#         the range of 1 to 25.\n",
    "# SOLUTION :\n",
    "#           In Pyhton , 'def' keyword is used to create the function.\n",
    "    \n",
    "# return the list of odd numbers in the range of 1 to 25--\n",
    "\n",
    "def odd_num():\n",
    "    result = []\n",
    "    for i in range(1,26):\n",
    "        if i%2 != 0 :\n",
    "            result.append(i)\n",
    "    return result\n",
    "            \n",
    "    "
   ]
  },
  {
   "cell_type": "code",
   "execution_count": 2,
   "id": "6f37534c-2eec-47de-abc0-3f46267a3ce8",
   "metadata": {},
   "outputs": [
    {
     "data": {
      "text/plain": [
       "[1, 3, 5, 7, 9, 11, 13, 15, 17, 19, 21, 23, 25]"
      ]
     },
     "execution_count": 2,
     "metadata": {},
     "output_type": "execute_result"
    }
   ],
   "source": [
    "odd_num()"
   ]
  },
  {
   "cell_type": "code",
   "execution_count": 3,
   "id": "66919acb-a242-4199-a96d-8ae45e3f0b79",
   "metadata": {},
   "outputs": [
    {
     "name": "stdout",
     "output_type": "stream",
     "text": [
      "1\n",
      "2\n",
      "3\n",
      "four\n",
      "name: Alice\n",
      "age: 30\n",
      "city: Wonderland\n"
     ]
    }
   ],
   "source": [
    "# Ques:2 Why *args and **kwargs is used in some functions? Create a function each for *args and **kwargs \n",
    "#         to demonstrate their use.\n",
    "# SOLUTION:\n",
    "    \n",
    "# 1. The *args syntax allows you to pass a variable number of non-keyword arguments to a function. \n",
    "#    These arguments are collected into a tuple.\n",
    "\n",
    "def show_args(*args):\n",
    "    for arg in args:\n",
    "         print(arg)\n",
    "\n",
    "show_args(1, 2, 3, \"four\")\n",
    "\n",
    "# 2. The **kwargs syntax allows you to pass a variable number of keyword arguments to a function. \n",
    "#    These arguments are collected into a dictionary.\n",
    "\n",
    "def show_kwargs(**kwargs):\n",
    "    for key, value in kwargs.items():\n",
    "        print(f\"{key}: {value}\")\n",
    "\n",
    "show_kwargs(name=\"Alice\", age=30, city=\"Wonderland\")\n",
    "\n",
    "\n",
    "    \n"
   ]
  },
  {
   "cell_type": "code",
   "execution_count": 4,
   "id": "31deedaa-e727-46d3-939e-3bf2a9591f19",
   "metadata": {},
   "outputs": [
    {
     "name": "stdout",
     "output_type": "stream",
     "text": [
      "2\n",
      "4\n",
      "6\n",
      "8\n",
      "10\n"
     ]
    }
   ],
   "source": [
    "# Ques:3 What is an iterator in python? Name the method used to initialise the iterator object and the method\n",
    "# used for iteration. Use these methods to print the first five elements of the given list [2, 4, 6, 8, 10, 12, 14,\n",
    "# 16, 18, 20].\n",
    "\n",
    "# SOLUTION :\n",
    "    \n",
    "#     In Python, an iterator is an object that represents a stream of data, and it allows you to iterate over the elements of a container (like a list) one at a time.\n",
    "#     You can create an iterator from an iterable object using the `iter()` function and then iterate over its elements using the `next()` function.\n",
    "\n",
    "#To print the first five elements of the given list:\n",
    "\n",
    "\n",
    "# Create an iterator from the list\n",
    "my_list = [2, 4, 6, 8, 10, 12, 14, 16, 18, 20]\n",
    "my_iterator = iter(my_list)\n",
    "\n",
    "# Iterate and print the first five elements\n",
    "for _ in range(5):\n",
    "    element = next(my_iterator)\n",
    "    print(element)\n",
    "\n",
    "\n"
   ]
  },
  {
   "cell_type": "code",
   "execution_count": 6,
   "id": "6ebe933a-7c41-4368-b194-6fa8b39e793e",
   "metadata": {},
   "outputs": [
    {
     "name": "stdout",
     "output_type": "stream",
     "text": [
      "1\n",
      "2\n",
      "3\n",
      "4\n",
      "5\n"
     ]
    }
   ],
   "source": [
    "# Ques 4: What is a generator function in python? Why yield keyword is used? Give an example of a generator\n",
    "# function.\n",
    "\n",
    "# SOLUTION:\n",
    "    \n",
    "#     A generator function in Python is a special type of function that allows you to define an iterator. Generator functions are defined using the `def` keyword \n",
    "#     just like regular functions, but they contain one or more `yield` statements. When a generator function is called, it returns a generator object, which can be \n",
    "#     iterated over to produce a sequence of values.\n",
    "\n",
    "#     The `yield` keyword is used in a generator function to yield a value to the caller, temporarily suspending the function's state. When the generator is iterated \n",
    "#     over,execution of the generator function resumes from the last `yield` statement, allowing the function to continue executing and producing the next value\n",
    "#     in the sequence.This is a memory-efficient way to produce a potentially large sequence of values without having to store them all in memory at once.\n",
    "\n",
    "# Example of a simple generator function:\n",
    "\n",
    "\n",
    "def count_up_to(n):\n",
    "    i = 1\n",
    "    while i <= n:\n",
    "        yield i\n",
    "        i += 1\n",
    "\n",
    "# Create a generator object\n",
    "counter = count_up_to(5)\n",
    "\n",
    "# Iterate over the generator to produce values\n",
    "for num in counter:\n",
    "    print(num)\n",
    "\n",
    "\n",
    "\n",
    "    \n",
    "    "
   ]
  },
  {
   "cell_type": "code",
   "execution_count": 12,
   "id": "50eca685-4035-4a58-bc0b-5aa043ff880e",
   "metadata": {},
   "outputs": [
    {
     "name": "stdout",
     "output_type": "stream",
     "text": [
      "2\n",
      "3\n",
      "5\n",
      "7\n",
      "11\n",
      "13\n",
      "17\n",
      "19\n",
      "23\n",
      "29\n",
      "31\n",
      "37\n",
      "41\n",
      "43\n",
      "47\n",
      "53\n",
      "59\n",
      "61\n",
      "67\n",
      "71\n"
     ]
    }
   ],
   "source": [
    "# Ques 5: Create a generator function for prime numbers less than 1000. Use the next() method to print the\n",
    "# first 20 prime numbers.\n",
    "\n",
    "# SOLUTION:\n",
    "    \n",
    "def is_prime(num):\n",
    "    if num <= 1:\n",
    "        return False\n",
    "    for i in range(2, int(num**0.5) + 1):\n",
    "        if num % i == 0:\n",
    "            return False\n",
    "    return True\n",
    "\n",
    "def prime_generator():\n",
    "    num = 2\n",
    "    count = 0\n",
    "    while count < 20:\n",
    "        if is_prime(num):\n",
    "            yield num\n",
    "            count += 1\n",
    "        num += 1\n",
    "\n",
    "# Create a prime number generator\n",
    "prime_gen = prime_generator()\n",
    "\n",
    "# Use the next() method to print the first 20 prime numbers\n",
    "for y in range(20):\n",
    "    prime = next(prime_gen)\n",
    "    print(prime)\n"
   ]
  },
  {
   "cell_type": "code",
   "execution_count": 20,
   "id": "ed102141-61a3-4166-8ba3-64e592f0d336",
   "metadata": {},
   "outputs": [
    {
     "name": "stdout",
     "output_type": "stream",
     "text": [
      "0\n",
      "1\n",
      "1\n",
      "2\n",
      "3\n",
      "5\n",
      "8\n",
      "13\n",
      "21\n",
      "34\n"
     ]
    }
   ],
   "source": [
    "# Ques 6: Write a python program to print the first 10 Fibonacci numbers using a while loop.\n",
    "# SOLUTION:\n",
    "    \n",
    "def test_fibonacci(n):\n",
    "    fib_sequence = []\n",
    "    a, b = 0, 1\n",
    "    count = 0\n",
    "\n",
    "    while count < n:\n",
    "        fib_sequence.append(a)\n",
    "        a, b = b, a + b\n",
    "        count += 1\n",
    "\n",
    "    return fib_sequence\n",
    "# Call the function to generate the first 10 Fibonacci numbers\n",
    "fibonacci_numbers = test_fibonacci(10)\n",
    "\n",
    "# Print the result\n",
    "for number in fibonacci_numbers:\n",
    "    print(number)\n",
    "\n",
    "\n"
   ]
  },
  {
   "cell_type": "code",
   "execution_count": 27,
   "id": "7eff5d1b-8d57-49be-9cbb-b14131bff1e9",
   "metadata": {},
   "outputs": [
    {
     "name": "stdout",
     "output_type": "stream",
     "text": [
      "['p', 'w', 's', 'k', 'i', 'l', 'l', 's']\n"
     ]
    }
   ],
   "source": [
    "# Ques 7: Write a List Comprehension to iterate through the given string: ‘pwskills’.\n",
    "# Expected output: ['p', 'w', 's', 'k', 'i', 'l', 'l', 's']\n",
    "\n",
    "# SOLUTION: \n",
    "    \n",
    "def character(char):\n",
    "     return char\n",
    "\n",
    "string = 'pwskills'\n",
    "result = [character(char) for char in string]\n",
    "print(result)\n",
    "\n"
   ]
  },
  {
   "cell_type": "code",
   "execution_count": 37,
   "id": "3fa8dfd8-9ea2-4f78-b3a9-a6c2a801fdd2",
   "metadata": {},
   "outputs": [
    {
     "name": "stdin",
     "output_type": "stream",
     "text": [
      "Enter a number:  121\n"
     ]
    },
    {
     "name": "stdout",
     "output_type": "stream",
     "text": [
      "121 is a palindrome.\n"
     ]
    }
   ],
   "source": [
    "# Ques 8: Write a python program to check whether a given number is Palindrome or not using a while loop.\n",
    "# SOLUTION:\n",
    "    \n",
    "def is_palindrome(num):\n",
    "    original_num = num\n",
    "    reversed_num = 0\n",
    "\n",
    "    while num > 0:\n",
    "        digit = num % 10\n",
    "        reversed_num = reversed_num * 10 + digit\n",
    "        num = num // 10\n",
    "\n",
    "    return original_num == reversed_num\n",
    "\n",
    "# Input a number\n",
    "num = int(input(\"Enter a number: \"))\n",
    "\n",
    "if is_palindrome(num):\n",
    "    print(f\"{num} is a palindrome.\")\n",
    "else:\n",
    "    print(f\"{num} is not a palindrome.\")\n"
   ]
  },
  {
   "cell_type": "code",
   "execution_count": 40,
   "id": "191b77b8-02a1-4881-82ba-951e324790e9",
   "metadata": {},
   "outputs": [
    {
     "name": "stdout",
     "output_type": "stream",
     "text": [
      "[1, 3, 5, 7, 9, 11, 13, 15, 17, 19, 21, 23, 25, 27, 29, 31, 33, 35, 37, 39, 41, 43, 45, 47, 49, 51, 53, 55, 57, 59, 61, 63, 65, 67, 69, 71, 73, 75, 77, 79, 81, 83, 85, 87, 89, 91, 93, 95, 97, 99]\n",
      "[1, 3, 5, 7, 9, 11, 13, 15, 17, 19, 21, 23, 25, 27, 29, 31, 33, 35, 37, 39, 41, 43, 45, 47, 49, 51, 53, 55, 57, 59, 61, 63, 65, 67, 69, 71, 73, 75, 77, 79, 81, 83, 85, 87, 89, 91, 93, 95, 97, 99]\n"
     ]
    }
   ],
   "source": [
    "# Ques 9: Write a code to print odd numbers from 1 to 100 using list comprehension.\n",
    "# Note: Use a list comprehension to create a list from 1 to 100 and use another List comprehension to filter\n",
    "# out odd numbers.\n",
    "\n",
    "# SOLUTION:\n",
    "    \n",
    "#using simple list comprehension.\n",
    "odd_numbers = [num for num in range(1, 101) if num % 2 != 0]\n",
    "print(odd_numbers)\n",
    "\n",
    "#Using List comprehension to filter out odd numbers.\n",
    "all_numbers = list(range(1, 101))\n",
    "filtered_odd_numbers = list(filter(lambda x: x % 2 != 0, all_numbers))\n",
    "print(filtered_odd_numbers)\n"
   ]
  }
 ],
 "metadata": {
  "kernelspec": {
   "display_name": "Python 3 (ipykernel)",
   "language": "python",
   "name": "python3"
  },
  "language_info": {
   "codemirror_mode": {
    "name": "ipython",
    "version": 3
   },
   "file_extension": ".py",
   "mimetype": "text/x-python",
   "name": "python",
   "nbconvert_exporter": "python",
   "pygments_lexer": "ipython3",
   "version": "3.10.8"
  }
 },
 "nbformat": 4,
 "nbformat_minor": 5
}
